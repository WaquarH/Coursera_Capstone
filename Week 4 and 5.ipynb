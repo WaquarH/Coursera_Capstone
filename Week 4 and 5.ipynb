{
 "cells": [
  {
   "cell_type": "markdown",
   "metadata": {},
   "source": [
    "<h3> Data Science Capstone Project </h3>"
   ]
  },
  {
   "cell_type": "markdown",
   "metadata": {},
   "source": [
    "<h1> The Battle Of Neighborhood </h1>"
   ]
  },
  {
   "cell_type": "markdown",
   "metadata": {},
   "source": [
    "<h4> An Analysis of neighborhood in different cities </h4>"
   ]
  },
  {
   "cell_type": "markdown",
   "metadata": {},
   "source": [
    "This Notebook consists of two parts. The first part defines the problem statement, and the potential solution for that problem statement. The second part of the notebook describes the actual solution for the problem statement.\n",
    "\n",
    "The whole notebook will be submited twice. First as part of the assigment of week 4, the second time as the final result for week 5's assignment."
   ]
  },
  {
   "cell_type": "markdown",
   "metadata": {},
   "source": [
    "<h2> Section 1 : Introduction </h2>"
   ]
  },
  {
   "cell_type": "markdown",
   "metadata": {},
   "source": [
    "<h4> Problem Statement </h4>"
   ]
  },
  {
   "cell_type": "markdown",
   "metadata": {},
   "source": [
    "My customer wants to open a new coffee-shop in Delhi, India. He hasn't decided yet on the location, and he has asked me to provide a suggestion what the best location is.\n",
    "\n",
    "The best location in this case is related to other venues in the vincinity that attract customers. This could be restaurants, parks, university faculties, companies. But also the lack of other coffee-venues in the area."
   ]
  },
  {
   "cell_type": "markdown",
   "metadata": {},
   "source": [
    "<h4> Data Selection and Requirement </h4>"
   ]
  },
  {
   "cell_type": "markdown",
   "metadata": {},
   "source": [
    "To answer the questions, I want to source data from Foursquare. To do the analysis I will use Jupyter notebooks and python 3.7. Libraries I'm going to use include map-visualization, analytical libraries and libraries that make it convenient to work with datasets.\n",
    "\n",
    "To answer the question for the customer, I want to create lists of different types of venues. Once I have categorized and clustered them, I want to plot them on a map. Based on this, I want to be able to show the best area for the coffee-shop to be opened."
   ]
  },
  {
   "cell_type": "code",
   "execution_count": null,
   "metadata": {},
   "outputs": [],
   "source": []
  }
 ],
 "metadata": {
  "kernelspec": {
   "display_name": "Python 3",
   "language": "python",
   "name": "python3"
  },
  "language_info": {
   "codemirror_mode": {
    "name": "ipython",
    "version": 3
   },
   "file_extension": ".py",
   "mimetype": "text/x-python",
   "name": "python",
   "nbconvert_exporter": "python",
   "pygments_lexer": "ipython3",
   "version": "3.7.4"
  }
 },
 "nbformat": 4,
 "nbformat_minor": 2
}
